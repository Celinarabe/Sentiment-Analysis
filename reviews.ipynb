{
 "cells": [
  {
   "cell_type": "markdown",
   "metadata": {},
   "source": [
    "## Data Classes"
   ]
  },
  {
   "cell_type": "code",
   "execution_count": 72,
   "metadata": {},
   "outputs": [],
   "source": [
    "import random\n",
    "\n",
    "# enum class for string consistency\n",
    "class Sentiment:\n",
    "    NEGATIVE = 'NEGATIVE'\n",
    "    NEUTRAL = 'NEUTRAL'\n",
    "    POSITIVE = 'POSITIVE'\n",
    "\n",
    "# class for review\n",
    "class Review:\n",
    "    def __init__(self, text, score):\n",
    "        self.text = text\n",
    "        self.score = score\n",
    "        self.sentiment = self.get_sentiment()\n",
    "    \n",
    "    def get_sentiment(self):\n",
    "        if self.score <= 2:\n",
    "            return Sentiment.NEGATIVE\n",
    "        elif self.score == 3:\n",
    "            return Sentiment.NEUTRAL\n",
    "        else:\n",
    "            return Sentiment.POSITIVE\n",
    "    \n",
    "    def get_text(self):\n",
    "        return self.text\n",
    "\n",
    "# class for collection of reviews\n",
    "class ReviewContainer:\n",
    "    def __init__(self, reviews):\n",
    "        self.reviews = reviews\n",
    "        \n",
    "    def get_text(self):\n",
    "        return [x.text for x in self.reviews]\n",
    "    \n",
    "    def get_sentiment(self):\n",
    "        return [x.sentiment for x in self.reviews]\n",
    "     \n",
    "    # get even qty of pos/neg reviews\n",
    "    def evenly_distribute(self):\n",
    "        # getting all neg/pos reviews\n",
    "        negative = list(filter(lambda x: x.sentiment == Sentiment.NEGATIVE, self.reviews))\n",
    "        positive = list(filter(lambda x: x.sentiment == Sentiment.POSITIVE, self.reviews))\n",
    "        # shrinking positive reviews to equal qty of negative reviews\n",
    "        positive_shrunk = positive[:len(negative)]\n",
    "        \n",
    "        # new review set w/equal qty of pos/neg reviews\n",
    "        self.reviews = negative + positive_shrunk\n",
    "        # shuffle reviews to avoid too many pos/neg reviews together\n",
    "        random.shuffle(self.reviews)\n",
    "\n",
    "        "
   ]
  },
  {
   "cell_type": "markdown",
   "metadata": {},
   "source": [
    "## Load Data"
   ]
  },
  {
   "cell_type": "code",
   "execution_count": 77,
   "metadata": {},
   "outputs": [
    {
     "name": "stdout",
     "output_type": "stream",
     "text": [
      "the clear scalp hair and beauty oil is a decent hair oil that many will appreciate for its light weight and decent fragrance  it is not thick like coconut oil tends to be and it also does not have the strong unpleasant smell of coconut oil  the primary ingredient as others have mentioned is indeed mineral oil so you would expect it to be a lighter weight than coconut oil  it will leave your hair and scalp with a nice shine as all oils do and also leave decent aroma that will not bother most people  for those seeking a true scalp therapy you will probably still need to turn to a heavier weight oil but for general everyday hair needs this one is  just a bit better than baby oil though at a much higher price\n"
     ]
    }
   ],
   "source": [
    "import json\n",
    "file_name = 'beauty_small.json'\n",
    "\n",
    "reviews = []\n",
    "with open(file_name) as f:\n",
    "    for line in f:\n",
    "        # loads the line as a dictionary\n",
    "        review = json.loads(line)\n",
    "        # appending a review object\n",
    "        reviews.append(Review(review['reviewText'], review['overall']))\n",
    "print(reviews[0].get_text())       "
   ]
  },
  {
   "cell_type": "markdown",
   "metadata": {},
   "source": [
    "## Prep Data"
   ]
  },
  {
   "cell_type": "code",
   "execution_count": 78,
   "metadata": {},
   "outputs": [],
   "source": [
    "# split data into train/test sets\n",
    "from sklearn.model_selection import train_test_split\n",
    "training, test = train_test_split(reviews, test_size = 0.33, random_state = 25)\n",
    "\n",
    "# create review container for train set\n",
    "train_container = ReviewContainer(training)\n",
    "train_container.evenly_distribute()\n",
    "\n",
    "# create review container for test set\n",
    "test_container = ReviewContainer(test)\n",
    "test_container.evenly_distribute()\n"
   ]
  },
  {
   "cell_type": "markdown",
   "metadata": {},
   "source": [
    "## Parametizing"
   ]
  },
  {
   "cell_type": "code",
   "execution_count": 79,
   "metadata": {},
   "outputs": [],
   "source": [
    "#separating input/output parameters\n",
    "#input is text (x), output is sentiment (y)\n",
    "\n",
    "train_x = train_container.get_text()\n",
    "train_y = train_container.get_sentiment()\n",
    "\n",
    "test_x = test_container.get_text()\n",
    "test_y = test_container.get_sentiment()\n",
    "\n"
   ]
  },
  {
   "cell_type": "markdown",
   "metadata": {},
   "source": [
    "## Vectorization - Bag of Words"
   ]
  },
  {
   "cell_type": "code",
   "execution_count": 80,
   "metadata": {},
   "outputs": [],
   "source": [
    "# Bag of Words - convert text to a quantitative vector\n",
    "\n",
    "# CountVectrizer - each word carries same weight (contrary to Tfid)\n",
    "# TfidfVectorizer - term frequency inverse document frequency. a word is LESS important if\n",
    "# it occurs in MORE documents (is, a, are, etc.)\n",
    "from sklearn.feature_extraction.text import CountVectorizer, TfidfVectorizer\n",
    "\n",
    "vectorizer = TfidfVectorizer()\n",
    "#fit - to learn vocabulary from the input data\n",
    "#transform - to vectorize each review\n",
    "train_x_vectors = vectorizer.fit_transform(train_x)\n",
    "test_x_vectors = vectorizer.transform(test_x)\n"
   ]
  },
  {
   "cell_type": "markdown",
   "metadata": {},
   "source": [
    "# Classification"
   ]
  },
  {
   "cell_type": "markdown",
   "metadata": {},
   "source": [
    "### Linear SVM"
   ]
  },
  {
   "cell_type": "code",
   "execution_count": 81,
   "metadata": {},
   "outputs": [
    {
     "name": "stdout",
     "output_type": "stream",
     "text": [
      "if youre like me you probably have a slew of hair products you bought to try used a few times then decided you were sorry you bought them so they go to the back of the cabinet until you clear it out and throw them away so its with a bit of skepticism i try new hair products any more many of them do a good initial job but the next day you have to really work with your hair to try and get it looking good again my hair is short thick and rather fine so even with a layered cut i am always trying to give it some curl definition and volume enter this productmotions naturally  you define my curls creme has been doing a phenomenal job with my hair it leaves it soft cleanfeeling and gives a definite shine i have used this 3 days in a row at times and it doesnt leave my hair oily limp or overproducted maybe thats a new word but you know what i mean i wash my hair every 23 days and its nice not to have to wash it daily to remove styling products i will also be reviewing another motions naturally styling product i really like as wellit does a great job in a different wayi would definitely recommend this is youre looking for a more definitive styling product the consistency of this one is that of a gel it only takes a small dab or two about the size of a dime or so to do the job err on the side of using less then adding more if needed  i smooth it on my fingertips and handcomb my bangs and hair and it gives instant lift nice definition and a very nice shine\n",
      "POSITIVE\n"
     ]
    },
    {
     "data": {
      "text/plain": [
       "array(['POSITIVE'], dtype='<U8')"
      ]
     },
     "execution_count": 81,
     "metadata": {},
     "output_type": "execute_result"
    }
   ],
   "source": [
    "from sklearn import svm\n",
    "\n",
    "# initialize svm classifier\n",
    "clf_svm = svm.SVC(kernel = 'linear')\n",
    "\n",
    "#fitting the classifier to training data\n",
    "clf_svm.fit(train_x_vectors, train_y)\n",
    "\n",
    "# test\n",
    "print(test_x[0])\n",
    "print(test_y[0])\n",
    "clf_svm.predict(test_x_vectors[0])\n"
   ]
  },
  {
   "cell_type": "markdown",
   "metadata": {},
   "source": [
    "### Decision Tree"
   ]
  },
  {
   "cell_type": "code",
   "execution_count": 82,
   "metadata": {},
   "outputs": [
    {
     "name": "stdout",
     "output_type": "stream",
     "text": [
      "if youre like me you probably have a slew of hair products you bought to try used a few times then decided you were sorry you bought them so they go to the back of the cabinet until you clear it out and throw them away so its with a bit of skepticism i try new hair products any more many of them do a good initial job but the next day you have to really work with your hair to try and get it looking good again my hair is short thick and rather fine so even with a layered cut i am always trying to give it some curl definition and volume enter this productmotions naturally  you define my curls creme has been doing a phenomenal job with my hair it leaves it soft cleanfeeling and gives a definite shine i have used this 3 days in a row at times and it doesnt leave my hair oily limp or overproducted maybe thats a new word but you know what i mean i wash my hair every 23 days and its nice not to have to wash it daily to remove styling products i will also be reviewing another motions naturally styling product i really like as wellit does a great job in a different wayi would definitely recommend this is youre looking for a more definitive styling product the consistency of this one is that of a gel it only takes a small dab or two about the size of a dime or so to do the job err on the side of using less then adding more if needed  i smooth it on my fingertips and handcomb my bangs and hair and it gives instant lift nice definition and a very nice shine\n",
      "POSITIVE\n"
     ]
    },
    {
     "data": {
      "text/plain": [
       "array(['POSITIVE'], dtype='<U8')"
      ]
     },
     "execution_count": 82,
     "metadata": {},
     "output_type": "execute_result"
    }
   ],
   "source": [
    "from sklearn.tree import DecisionTreeClassifier\n",
    "\n",
    "# initialize decision tree classifier\n",
    "clf_dec = DecisionTreeClassifier()\n",
    "\n",
    "# fitting training data to decision tree classifier\n",
    "clf_dec.fit(train_x_vectors, train_y)\n",
    "\n",
    "# test\n",
    "print(test_x[0])\n",
    "print(test_y[0])\n",
    "clf_dec.predict(test_x_vectors[0])"
   ]
  },
  {
   "cell_type": "markdown",
   "metadata": {},
   "source": [
    "### Naive Bayes"
   ]
  },
  {
   "cell_type": "code",
   "execution_count": 85,
   "metadata": {},
   "outputs": [
    {
     "name": "stdout",
     "output_type": "stream",
     "text": [
      "if youre like me you probably have a slew of hair products you bought to try used a few times then decided you were sorry you bought them so they go to the back of the cabinet until you clear it out and throw them away so its with a bit of skepticism i try new hair products any more many of them do a good initial job but the next day you have to really work with your hair to try and get it looking good again my hair is short thick and rather fine so even with a layered cut i am always trying to give it some curl definition and volume enter this productmotions naturally  you define my curls creme has been doing a phenomenal job with my hair it leaves it soft cleanfeeling and gives a definite shine i have used this 3 days in a row at times and it doesnt leave my hair oily limp or overproducted maybe thats a new word but you know what i mean i wash my hair every 23 days and its nice not to have to wash it daily to remove styling products i will also be reviewing another motions naturally styling product i really like as wellit does a great job in a different wayi would definitely recommend this is youre looking for a more definitive styling product the consistency of this one is that of a gel it only takes a small dab or two about the size of a dime or so to do the job err on the side of using less then adding more if needed  i smooth it on my fingertips and handcomb my bangs and hair and it gives instant lift nice definition and a very nice shine\n",
      "POSITIVE\n"
     ]
    },
    {
     "data": {
      "text/plain": [
       "array(['NEGATIVE'], dtype='<U8')"
      ]
     },
     "execution_count": 85,
     "metadata": {},
     "output_type": "execute_result"
    }
   ],
   "source": [
    "from sklearn.naive_bayes import GaussianNB\n",
    "\n",
    "# initialize naive bayes classifier\n",
    "clf_gnb = GaussianNB()\n",
    "\n",
    "# fitting training data to naive bayes classifier\n",
    "clf_gnb.fit(train_x_vectors.todense(), train_y)\n",
    "\n",
    "# test\n",
    "print(test_x[0])\n",
    "print(test_y[0])\n",
    "clf_gnb.predict(test_x_vectors.todense()[0])"
   ]
  },
  {
   "cell_type": "markdown",
   "metadata": {},
   "source": [
    "### Logistic Regresstion"
   ]
  },
  {
   "cell_type": "code",
   "execution_count": 86,
   "metadata": {},
   "outputs": [
    {
     "name": "stdout",
     "output_type": "stream",
     "text": [
      "if youre like me you probably have a slew of hair products you bought to try used a few times then decided you were sorry you bought them so they go to the back of the cabinet until you clear it out and throw them away so its with a bit of skepticism i try new hair products any more many of them do a good initial job but the next day you have to really work with your hair to try and get it looking good again my hair is short thick and rather fine so even with a layered cut i am always trying to give it some curl definition and volume enter this productmotions naturally  you define my curls creme has been doing a phenomenal job with my hair it leaves it soft cleanfeeling and gives a definite shine i have used this 3 days in a row at times and it doesnt leave my hair oily limp or overproducted maybe thats a new word but you know what i mean i wash my hair every 23 days and its nice not to have to wash it daily to remove styling products i will also be reviewing another motions naturally styling product i really like as wellit does a great job in a different wayi would definitely recommend this is youre looking for a more definitive styling product the consistency of this one is that of a gel it only takes a small dab or two about the size of a dime or so to do the job err on the side of using less then adding more if needed  i smooth it on my fingertips and handcomb my bangs and hair and it gives instant lift nice definition and a very nice shine\n",
      "POSITIVE\n"
     ]
    },
    {
     "data": {
      "text/plain": [
       "array(['POSITIVE'], dtype='<U8')"
      ]
     },
     "execution_count": 86,
     "metadata": {},
     "output_type": "execute_result"
    }
   ],
   "source": [
    "from sklearn.linear_model import LogisticRegression\n",
    "\n",
    "# initialize logistic regression classifier\n",
    "clf_log = LogisticRegression()\n",
    "\n",
    "# fitting training data to log reg classifier\n",
    "clf_log.fit(train_x_vectors, train_y)\n",
    "\n",
    "# test\n",
    "print(test_x[0])\n",
    "print(test_y[0])\n",
    "clf_log.predict(test_x_vectors[0])"
   ]
  },
  {
   "cell_type": "markdown",
   "metadata": {},
   "source": [
    "## Evaluation"
   ]
  },
  {
   "cell_type": "markdown",
   "metadata": {},
   "source": [
    "### Mean Accuracy"
   ]
  },
  {
   "cell_type": "code",
   "execution_count": 87,
   "metadata": {},
   "outputs": [
    {
     "name": "stdout",
     "output_type": "stream",
     "text": [
      "Linear SVM: 0.821917808219178\n",
      "Decision Tree: 0.5753424657534246\n",
      "Naive Bayes: 0.6438356164383562\n",
      "Logistic Regression: 0.8082191780821918\n"
     ]
    }
   ],
   "source": [
    "# .score function returns the mean accuracy of the classifier against the test set\n",
    "print('Linear SVM:', clf_svm.score(test_x_vectors, test_y))\n",
    "print('Decision Tree:',clf_dec.score(test_x_vectors, test_y))\n",
    "print('Naive Bayes:',clf_gnb.score(test_x_vectors.todense(), test_y))\n",
    "print('Logistic Regression:',clf_log.score(test_x_vectors, test_y))"
   ]
  },
  {
   "cell_type": "markdown",
   "metadata": {},
   "source": [
    "### F1 Score"
   ]
  },
  {
   "cell_type": "code",
   "execution_count": 88,
   "metadata": {},
   "outputs": [
    {
     "data": {
      "text/plain": [
       "array([0.83116883, 0.8115942 ])"
      ]
     },
     "execution_count": 88,
     "metadata": {},
     "output_type": "execute_result"
    }
   ],
   "source": [
    "from sklearn.metrics import f1_score\n",
    "\n",
    "# f1 score - measures precision/recall\n",
    "# f1 score reveals good predictor for positive, but trash for neutral and neg\n",
    "# pretty much always predicting postive\n",
    "f1_score(test_y, clf_svm.predict(test_x_vectors), average=None, labels = [Sentiment.POSITIVE, Sentiment.NEGATIVE])\n",
    "\n",
    "\n"
   ]
  },
  {
   "cell_type": "code",
   "execution_count": 89,
   "metadata": {},
   "outputs": [
    {
     "data": {
      "text/plain": [
       "array(['NEGATIVE', 'POSITIVE', 'NEGATIVE'], dtype='<U8')"
      ]
     },
     "execution_count": 89,
     "metadata": {},
     "output_type": "execute_result"
    }
   ],
   "source": [
    "#test w/hand written data\n",
    "test_set = ['horrible book', 'awesome, loved it', 'waste of time']\n",
    "new_test_vector = vectorizer.transform(test_set)\n",
    "\n",
    "clf_svm.predict(new_test_vector)"
   ]
  },
  {
   "cell_type": "markdown",
   "metadata": {},
   "source": [
    "## Tuning Our Model w/Grid Search"
   ]
  },
  {
   "cell_type": "code",
   "execution_count": 90,
   "metadata": {},
   "outputs": [
    {
     "data": {
      "text/plain": [
       "GridSearchCV(cv=5, estimator=SVC(),\n",
       "             param_grid={'C': (1, 4, 8, 16, 32), 'kernel': ('linear', 'rbf')})"
      ]
     },
     "execution_count": 90,
     "metadata": {},
     "output_type": "execute_result"
    }
   ],
   "source": [
    "# Google 'Parameter tuning sklearn' to find ways to improve your model!\n",
    "# option: could strip punctuation so \"good!\"\" and good are counted as the same\n",
    "\n",
    "from sklearn.model_selection import GridSearchCV\n",
    "\n",
    "# there's a lot of parameters for svm. We can use GridSearch to programmatically test many values\n",
    "\n",
    "parameters = {'kernel': ('linear', 'rbf'), 'C': (1,4,8,16,32)}\n",
    "svc = svm.SVC()\n",
    "# cv = how many times do we want to split the data to cross validate and make sure things are working well\n",
    "# with a specific parameter\n",
    "clf = GridSearchCV(svc, parameters, cv = 5)\n",
    "\n",
    "# fit clf to training data\n",
    "clf.fit(train_x_vectors, train_y)"
   ]
  },
  {
   "cell_type": "code",
   "execution_count": 52,
   "metadata": {},
   "outputs": [
    {
     "name": "stdout",
     "output_type": "stream",
     "text": [
      "0.7901234567901234\n"
     ]
    }
   ],
   "source": [
    "# seeing if grid search helped\n",
    "print(clf_svm.score(test_x_vectors, test_y))\n"
   ]
  },
  {
   "cell_type": "markdown",
   "metadata": {},
   "source": [
    "### Saving Model"
   ]
  },
  {
   "cell_type": "code",
   "execution_count": 91,
   "metadata": {},
   "outputs": [],
   "source": [
    "# save classifier so we don't have to retrain it\n",
    "\n",
    "import pickle\n",
    "\n",
    "with open('sentiment_classifier.pkl', 'wb') as f:\n",
    "    pickle.dump(clf, f)"
   ]
  },
  {
   "cell_type": "markdown",
   "metadata": {},
   "source": [
    "### Load Model"
   ]
  },
  {
   "cell_type": "code",
   "execution_count": 92,
   "metadata": {},
   "outputs": [],
   "source": [
    "with open('./sentiment_classifier.pkl', 'rb') as f:\n",
    "    loaded_clf = pickle.load(f)"
   ]
  },
  {
   "cell_type": "code",
   "execution_count": 93,
   "metadata": {},
   "outputs": [
    {
     "name": "stdout",
     "output_type": "stream",
     "text": [
      "if youre like me you probably have a slew of hair products you bought to try used a few times then decided you were sorry you bought them so they go to the back of the cabinet until you clear it out and throw them away so its with a bit of skepticism i try new hair products any more many of them do a good initial job but the next day you have to really work with your hair to try and get it looking good again my hair is short thick and rather fine so even with a layered cut i am always trying to give it some curl definition and volume enter this productmotions naturally  you define my curls creme has been doing a phenomenal job with my hair it leaves it soft cleanfeeling and gives a definite shine i have used this 3 days in a row at times and it doesnt leave my hair oily limp or overproducted maybe thats a new word but you know what i mean i wash my hair every 23 days and its nice not to have to wash it daily to remove styling products i will also be reviewing another motions naturally styling product i really like as wellit does a great job in a different wayi would definitely recommend this is youre looking for a more definitive styling product the consistency of this one is that of a gel it only takes a small dab or two about the size of a dime or so to do the job err on the side of using less then adding more if needed  i smooth it on my fingertips and handcomb my bangs and hair and it gives instant lift nice definition and a very nice shine\n"
     ]
    },
    {
     "data": {
      "text/plain": [
       "array(['POSITIVE'], dtype='<U8')"
      ]
     },
     "execution_count": 93,
     "metadata": {},
     "output_type": "execute_result"
    }
   ],
   "source": [
    "# testing saved model\n",
    "print(test_x[0])\n",
    "loaded_clf.predict(test_x_vectors[0])"
   ]
  },
  {
   "cell_type": "code",
   "execution_count": null,
   "metadata": {},
   "outputs": [],
   "source": []
  }
 ],
 "metadata": {
  "kernelspec": {
   "display_name": "Python 3",
   "language": "python",
   "name": "python3"
  },
  "language_info": {
   "codemirror_mode": {
    "name": "ipython",
    "version": 3
   },
   "file_extension": ".py",
   "mimetype": "text/x-python",
   "name": "python",
   "nbconvert_exporter": "python",
   "pygments_lexer": "ipython3",
   "version": "3.8.3"
  }
 },
 "nbformat": 4,
 "nbformat_minor": 4
}
